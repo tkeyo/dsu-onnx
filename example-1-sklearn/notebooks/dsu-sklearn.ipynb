{
 "metadata": {
  "language_info": {
   "codemirror_mode": {
    "name": "ipython",
    "version": 3
   },
   "file_extension": ".py",
   "mimetype": "text/x-python",
   "name": "python",
   "nbconvert_exporter": "python",
   "pygments_lexer": "ipython3",
   "version": "3.8.3-final"
  },
  "orig_nbformat": 2,
  "kernelspec": {
   "name": "python3",
   "display_name": "Python 3.8.3 64-bit ('re-data': conda)",
   "metadata": {
    "interpreter": {
     "hash": "ff81c6a7f0c2620a7eba0456bb4aadb6c0e308b166ea7e998518905add35dd8c"
    }
   }
  }
 },
 "nbformat": 4,
 "nbformat_minor": 2,
 "cells": [
  {
   "source": [
    "# DSU ONNX - Example #1: scikit-learn\n",
    "\n",
    "Please create a Python enviroment with Python 3.8 or 3.7. ONNX Runtime currently support python 3.8 or lower.\n",
    "\n",
    "\n",
    "\n"
   ],
   "cell_type": "markdown",
   "metadata": {}
  },
  {
   "cell_type": "code",
   "execution_count": null,
   "metadata": {},
   "outputs": [],
   "source": [
    "!pip install -r requirements.txt"
   ]
  },
  {
   "source": [
    "# 1. scikit-learn:  Train the model (Optional)\n",
    "\n",
    "Models are also available from here:\n",
    "\n",
    "        https://storage.googleapis.com/dsu-models-20020301/example-1-sklearn/rfr_regressor.joblib\n",
    "\n",
    "        https://storage.googleapis.com/dsu-models-20020301/example-1-sklearn/rfr_regressor.onnx\n",
    "\n",
    "You know the spiel with this one."
   ],
   "cell_type": "markdown",
   "metadata": {}
  },
  {
   "cell_type": "code",
   "execution_count": null,
   "metadata": {},
   "outputs": [],
   "source": [
    "import pandas as pd\n",
    "import numpy as np"
   ]
  },
  {
   "cell_type": "code",
   "execution_count": null,
   "metadata": {},
   "outputs": [],
   "source": [
    "df = pd.read_csv('dsu-data.csv')"
   ]
  },
  {
   "cell_type": "code",
   "execution_count": null,
   "metadata": {},
   "outputs": [],
   "source": [
    "from sklearn.model_selection import train_test_split\n",
    "X_train, X_test, y_train, y_test = train_test_split(df.drop('price', axis=1),df['price'], test_size=0.3, random_state=32)"
   ]
  },
  {
   "cell_type": "code",
   "execution_count": null,
   "metadata": {},
   "outputs": [],
   "source": [
    "from sklearn.ensemble import RandomForestRegressor\n",
    "\n",
    "hyper_params = {\n",
    "    'n_jobs':4, # uses 4 threads -> faster training\n",
    "    'n_estimators':3000\n",
    "}\n",
    "\n",
    "rfr = RandomForestRegressor()\n",
    "rfr.set_params(**hyper_params)\n",
    "\n",
    "rfr.fit(X_train, y_train)\n",
    "score = rfr.score(X_train, y_train).round(6)\n",
    "print(\"Model score\", score)"
   ]
  },
  {
   "source": [
    "### Run inference on scikit-learn model\n"
   ],
   "cell_type": "markdown",
   "metadata": {}
  },
  {
   "cell_type": "code",
   "execution_count": null,
   "metadata": {},
   "outputs": [],
   "source": [
    "rfr.predict([[10]])"
   ]
  },
  {
   "source": [
    "### Saving/Loading model in joblib format\n",
    "\n",
    "scikit-learn has a native support for joblib exports. It is a viable method of saving and consuming scikit-learn models but as showcased ONNX offers benefits compared to joblib.\n",
    "\n",
    "1. Smaller module footprint\n",
    "2. Faster inference\n",
    "3. Smaller model size"
   ],
   "cell_type": "markdown",
   "metadata": {}
  },
  {
   "cell_type": "code",
   "execution_count": null,
   "metadata": {},
   "outputs": [],
   "source": [
    "from joblib import dump, load\n",
    "dump(rfr, 'rfr_regressor.joblib')"
   ]
  },
  {
   "source": [
    "# loading joblib models\n",
    "from joblib import load\n",
    "load('rfr_regressor.joblib')"
   ],
   "cell_type": "code",
   "metadata": {},
   "execution_count": null,
   "outputs": []
  },
  {
   "source": [
    "# 2. ONNX: Convert to ONNX\n",
    "\n",
    "ONNX documentation\n",
    "\n",
    "sklearn-onnx docs: http://onnx.ai/sklearn-onnx/introduction.html <br/>\n",
    "supported scikit-learn models: https://onnx.ai/sklearn-onnx/supported.html"
   ],
   "cell_type": "markdown",
   "metadata": {}
  },
  {
   "cell_type": "code",
   "execution_count": null,
   "metadata": {},
   "outputs": [],
   "source": [
    "# import\n",
    "from skl2onnx import convert_sklearn\n",
    "from skl2onnx.common.data_types import Int64TensorType"
   ]
  },
  {
   "cell_type": "code",
   "execution_count": null,
   "metadata": {},
   "outputs": [],
   "source": [
    "# ONNX 'needs' to know what will be the input to the model\n",
    "# Int64TensorType defines that the input will be a single Int64 value\n",
    "# ONNX model will be expecting 'model_input = [10]'\n",
    "\n",
    "initial_type = [(\"input_array\", Int64TensorType([1]))]\n"
   ]
  },
  {
   "source": [
    "### Advanced input cases\n",
    "\n",
    "This might be a tricky part when converting models to ONNX as it must be defined what will be the input.\n",
    "\n",
    "#### Multiple features\n",
    "Let's consider the following example: \n",
    "\n",
    "```initial_type = [(\"input_array\", Int64TensorType([6]))]```\n",
    "\n",
    "In this case the input should 6 integers: \n",
    "\n",
    "```model_input = [1,10,14,2,5,7]```\n",
    "\n",
    "#### Batch inference\n",
    "```initial_type = [(\"input_array\", Int64TensorType([None ,6]))]```\n",
    "\n",
    "Notice 'None' in the Int64TensorType with this the ONNX model will be able to run inference on batches.\n",
    "\n",
    " ```model_input = [[1,78,90,10,77,6], [1,10,14,2,5,7], [10, ..]]```\n"
   ],
   "cell_type": "markdown",
   "metadata": {}
  },
  {
   "source": [
    "### Convert scikit-learn model to ONNX"
   ],
   "cell_type": "markdown",
   "metadata": {}
  },
  {
   "cell_type": "code",
   "execution_count": null,
   "metadata": {},
   "outputs": [],
   "source": [
    "# Conversion to ONNX\n",
    "onx = convert_sklearn(rfr, initial_types=initial_type)\n",
    "\n",
    "# Serialization\n",
    "with open(\"rfr_regressor.onnx\", \"wb\") as f:\n",
    "    f.write(onx.SerializeToString())"
   ]
  },
  {
   "source": [
    "### Run ONNX inference"
   ],
   "cell_type": "markdown",
   "metadata": {}
  },
  {
   "cell_type": "code",
   "execution_count": null,
   "metadata": {},
   "outputs": [],
   "source": [
    "# import ONNX Runtime\n",
    "import onnxruntime as rt\n",
    "\n",
    "# create an ONNX inference session\n",
    "sess = rt.InferenceSession('rfr_regressor.onnx')\n",
    "\n",
    "# get input and label names - we defined these at the model conversion step\n",
    "input_name = sess.get_inputs()[0].name\n",
    "label_name = sess.get_outputs()[0].name\n",
    "\n",
    "# run inference\n",
    "model_input = [10]\n",
    "result = sess.run([label_name], {input_name: model_input})\n",
    "result"
   ]
  },
  {
   "source": [
    "# Fin\n",
    "\n",
    "Compare the output from scikit-learn and ONNX. They should be approximately the same."
   ],
   "cell_type": "markdown",
   "metadata": {}
  },
  {
   "cell_type": "code",
   "execution_count": null,
   "metadata": {},
   "outputs": [],
   "source": []
  }
 ]
}